{
 "cells": [
  {
   "cell_type": "markdown",
   "id": "687c2c69",
   "metadata": {},
   "source": [
    "### sum of unique elements in list using set"
   ]
  },
  {
   "cell_type": "code",
   "execution_count": 1,
   "id": "20a87422",
   "metadata": {},
   "outputs": [
    {
     "name": "stdout",
     "output_type": "stream",
     "text": [
      "2 4 6 8 10 2 4 6 8\n",
      "40\n"
     ]
    }
   ],
   "source": [
    "def uniqueSum(li):\n",
    "    s = set()\n",
    "    sum = 0\n",
    "    for i in li:\n",
    "        s.add(i)\n",
    "    for j in s:\n",
    "        sum += i\n",
    "    return sum\n",
    "\n",
    "li = [int(x) for x in input().split()]\n",
    "print(uniqueSum(li))"
   ]
  }
 ],
 "metadata": {
  "kernelspec": {
   "display_name": "Python 3 (ipykernel)",
   "language": "python",
   "name": "python3"
  },
  "language_info": {
   "codemirror_mode": {
    "name": "ipython",
    "version": 3
   },
   "file_extension": ".py",
   "mimetype": "text/x-python",
   "name": "python",
   "nbconvert_exporter": "python",
   "pygments_lexer": "ipython3",
   "version": "3.10.1"
  }
 },
 "nbformat": 4,
 "nbformat_minor": 5
}
