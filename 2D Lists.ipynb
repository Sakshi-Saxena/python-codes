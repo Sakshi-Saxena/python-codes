{
 "cells": [
  {
   "cell_type": "code",
   "execution_count": 1,
   "id": "37cf29c3",
   "metadata": {},
   "outputs": [
    {
     "name": "stdout",
     "output_type": "stream",
     "text": [
      "[[1, 2, 3, 4], [5, 6, 7, 8], [9, 10, 11, 12], [13, 14, 15, 16]]\n"
     ]
    }
   ],
   "source": [
    "li = [[1,2,3,4],[5,6,7,8],[9,10,11,12],[13,14,15,16]]\n",
    "print(li)"
   ]
  },
  {
   "cell_type": "markdown",
   "id": "a4ac8924",
   "metadata": {},
   "source": [
    "# Jagged List"
   ]
  },
  {
   "cell_type": "code",
   "execution_count": 2,
   "id": "feb9c0b9",
   "metadata": {},
   "outputs": [
    {
     "name": "stdout",
     "output_type": "stream",
     "text": [
      "[[1, 2, 3, 4], [5, 6, 7], [9, 10], [13, 14, 15, 16]]\n"
     ]
    }
   ],
   "source": [
    "li = [[1,2,3,4],[5,6,7],[9,10],[13,14,15,16]]\n",
    "print(li)"
   ]
  },
  {
   "cell_type": "code",
   "execution_count": 4,
   "id": "d8ad738e",
   "metadata": {},
   "outputs": [
    {
     "data": {
      "text/plain": [
       "10"
      ]
     },
     "execution_count": 4,
     "metadata": {},
     "output_type": "execute_result"
    }
   ],
   "source": [
    "li[2][1]"
   ]
  },
  {
   "cell_type": "markdown",
   "id": "32c8ace4",
   "metadata": {},
   "source": [
    "## List Comprehension"
   ]
  },
  {
   "cell_type": "code",
   "execution_count": 5,
   "id": "5cec48ed",
   "metadata": {},
   "outputs": [
    {
     "name": "stdout",
     "output_type": "stream",
     "text": [
      "[1, 4, 9, 16]\n"
     ]
    }
   ],
   "source": [
    "li = [1,2,3,4]\n",
    "new_li = []\n",
    "for ele in li:\n",
    "    new_li.append(ele**2)\n",
    "print(new_li)    "
   ]
  },
  {
   "cell_type": "markdown",
   "id": "81f483bd",
   "metadata": {},
   "source": [
    "### new_list = [output, for statement ,condition] condition is not mandatory"
   ]
  },
  {
   "cell_type": "code",
   "execution_count": 6,
   "id": "c0424102",
   "metadata": {},
   "outputs": [
    {
     "name": "stdout",
     "output_type": "stream",
     "text": [
      "[1, 4, 9, 16]\n"
     ]
    }
   ],
   "source": [
    "new_li_using_li_com = [ele**2 for ele in li]\n",
    "print(new_li_using_li_com)"
   ]
  },
  {
   "cell_type": "code",
   "execution_count": 7,
   "id": "843040f1",
   "metadata": {},
   "outputs": [
    {
     "name": "stdout",
     "output_type": "stream",
     "text": [
      "[4, 16]\n"
     ]
    }
   ],
   "source": [
    "even_sq = [ele**2 for ele in li if ele%2==0]\n",
    "print(even_sq)"
   ]
  },
  {
   "cell_type": "code",
   "execution_count": 11,
   "id": "11d77494",
   "metadata": {},
   "outputs": [
    {
     "name": "stdout",
     "output_type": "stream",
     "text": [
      "[6]\n"
     ]
    }
   ],
   "source": [
    "li = [1,2,3,4,5,6,7,8,9]\n",
    "li_new = [ele for ele in li if ele%2==0 and ele%3==0]\n",
    "print(li_new)"
   ]
  },
  {
   "cell_type": "code",
   "execution_count": 12,
   "id": "5ecfc835",
   "metadata": {},
   "outputs": [
    {
     "name": "stdout",
     "output_type": "stream",
     "text": [
      "[6]\n"
     ]
    }
   ],
   "source": [
    "li = [1,2,3,4,5,6,7,8,9]\n",
    "li_new = [ele for ele in li if ele%2==0 if ele%3==0]   ##any no of conditions can be used!\n",
    "print(li_new)"
   ]
  },
  {
   "cell_type": "markdown",
   "id": "5414c80c",
   "metadata": {},
   "source": [
    "#### list comprehension can have multiple for loop and multiple conditions as well"
   ]
  },
  {
   "cell_type": "code",
   "execution_count": 15,
   "id": "afafa4e8",
   "metadata": {},
   "outputs": [
    {
     "name": "stdout",
     "output_type": "stream",
     "text": [
      "[4]\n"
     ]
    }
   ],
   "source": [
    "li = [1,2,3,4]\n",
    "li2 = [2,4,6,8]\n",
    "new_li = [ele for ele in li for ele2 in li2 if ele==ele2 if ele != 2]\n",
    "print(new_li)"
   ]
  },
  {
   "cell_type": "markdown",
   "id": "6f23e78c",
   "metadata": {},
   "source": [
    "### list comprehension can have if else as well"
   ]
  },
  {
   "cell_type": "code",
   "execution_count": 16,
   "id": "d55e82fc",
   "metadata": {},
   "outputs": [
    {
     "name": "stdout",
     "output_type": "stream",
     "text": [
      "[1, 4, 3, 16]\n"
     ]
    }
   ],
   "source": [
    "li = [1,2,3,4]\n",
    "new_li = [ele**2 if ele%2==0 else ele for ele in li]\n",
    "print(new_li)"
   ]
  },
  {
   "cell_type": "markdown",
   "id": "dc8a9fff",
   "metadata": {},
   "source": [
    "## List Comprehension on 2D list"
   ]
  },
  {
   "cell_type": "code",
   "execution_count": 19,
   "id": "26cb2a4b",
   "metadata": {},
   "outputs": [
    {
     "name": "stdout",
     "output_type": "stream",
     "text": [
      "[['S', 'a', 'k', 's', 'h', 'i'], ['A', 't', 'u', 'l']]\n"
     ]
    }
   ],
   "source": [
    "li = ['Sakshi', 'Atul']\n",
    "li_2d = [[li for li in ele] for ele in li]\n",
    "print(li_2d)"
   ]
  },
  {
   "cell_type": "code",
   "execution_count": 23,
   "id": "648e0e81",
   "metadata": {},
   "outputs": [
    {
     "name": "stdout",
     "output_type": "stream",
     "text": [
      "[[4, 16], [36, 64], [100, 144], [196, 256]]\n"
     ]
    }
   ],
   "source": [
    "li = [[1,2,3,4],[5,6,7,8],[9,10,11,12],[13,14,15,16]]\n",
    "li_new_2d = [[no**2 for no in ele if no%2==0] for ele in li]  ##[[output will be stored here] for statement for outer list]\n",
    "print(li_new_2d)"
   ]
  },
  {
   "cell_type": "markdown",
   "id": "effa5109",
   "metadata": {},
   "source": [
    "### taking input in 2d list"
   ]
  },
  {
   "cell_type": "code",
   "execution_count": 26,
   "id": "72c2cd09",
   "metadata": {},
   "outputs": [
    {
     "name": "stdout",
     "output_type": "stream",
     "text": [
      "3\n",
      "1 2 3 4 5\n",
      "1 2 3\n",
      "6 7 8 9 10\n",
      "[[1, 2, 3, 4, 5], [1, 2, 3], [6, 7, 8, 9, 10]]\n"
     ]
    }
   ],
   "source": [
    "n = int(input())      ##only rows given column can be any no\n",
    "li = [[int(i) for i in input().split()] for j in range(n)]\n",
    "print(li)"
   ]
  },
  {
   "cell_type": "code",
   "execution_count": 47,
   "id": "f10fa5f7",
   "metadata": {},
   "outputs": [
    {
     "name": "stdout",
     "output_type": "stream",
     "text": [
      "2 3\n",
      "1 2 3 4\n",
      "5 6 7\n",
      "[[1, 2, 3, 4], [5, 6, 7]]\n"
     ]
    }
   ],
   "source": [
    "str = input().split()\n",
    "n,m = int(str[0]), int(str[1])\n",
    "li = [[int(j) for j in input().split()] for i in range(n)]\n",
    "print(li)"
   ]
  },
  {
   "cell_type": "markdown",
   "id": "8326731d",
   "metadata": {},
   "source": [
    "### rows and column both given"
   ]
  },
  {
   "cell_type": "code",
   "execution_count": 44,
   "id": "794be529",
   "metadata": {},
   "outputs": [
    {
     "name": "stdout",
     "output_type": "stream",
     "text": [
      "2 3\n",
      "1 2 3 4 5 6\n",
      "[[1, 2, 3], [4, 5, 6]]\n"
     ]
    }
   ],
   "source": [
    "str = input().split()\n",
    "r, c = int(str[0]), int(str[1])\n",
    "li2d = input().split()\n",
    "arr = [[ int(li2d[c*i+j]) for j in range(c)] for i in range(r)]\n",
    "print(arr)"
   ]
  },
  {
   "cell_type": "code",
   "execution_count": 46,
   "id": "d8521e04",
   "metadata": {},
   "outputs": [
    {
     "name": "stdout",
     "output_type": "stream",
     "text": [
      "2 3 1 2 3 4 5 6\n",
      "[[1, 2, 3], [4, 5, 6]]\n"
     ]
    }
   ],
   "source": [
    "str = input().split()\n",
    "r, c = int(str[0]), int(str[1])\n",
    "li2d = str[2:]\n",
    "arr = [[ int(li2d[c*i+j]) for j in range(c)] for i in range(r)]\n",
    "print(arr)\n",
    "\n",
    "##here we take  all input in single line including m and n"
   ]
  },
  {
   "cell_type": "code",
   "execution_count": 38,
   "id": "c7bf4bd5",
   "metadata": {},
   "outputs": [
    {
     "name": "stdout",
     "output_type": "stream",
     "text": [
      "2 4\n",
      "<class 'str'> <class 'str'>\n",
      "<class 'int'> <class 'int'>\n"
     ]
    }
   ],
   "source": [
    "a,b = input().split()\n",
    "print(type(a),type(b))\n",
    "print(type(int(a)),type(int(b)))"
   ]
  }
 ],
 "metadata": {
  "kernelspec": {
   "display_name": "Python 3 (ipykernel)",
   "language": "python",
   "name": "python3"
  },
  "language_info": {
   "codemirror_mode": {
    "name": "ipython",
    "version": 3
   },
   "file_extension": ".py",
   "mimetype": "text/x-python",
   "name": "python",
   "nbconvert_exporter": "python",
   "pygments_lexer": "ipython3",
   "version": "3.10.1"
  }
 },
 "nbformat": 4,
 "nbformat_minor": 5
}
