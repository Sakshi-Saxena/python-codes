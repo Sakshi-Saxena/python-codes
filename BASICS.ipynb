{
 "cells": [
  {
   "cell_type": "markdown",
   "id": "2fb28a1a",
   "metadata": {},
   "source": [
    "### Hello World"
   ]
  },
  {
   "cell_type": "code",
   "execution_count": 2,
   "id": "bf144d29",
   "metadata": {},
   "outputs": [
    {
     "name": "stdout",
     "output_type": "stream",
     "text": [
      "Hello World\n",
      "Hello World\n"
     ]
    }
   ],
   "source": [
    "print(\"Hello World\")\n",
    "print(\"Hello World\")"
   ]
  },
  {
   "cell_type": "markdown",
   "id": "36fa15cc",
   "metadata": {},
   "source": [
    "### Variables"
   ]
  },
  {
   "cell_type": "code",
   "execution_count": 3,
   "id": "b20f4017",
   "metadata": {},
   "outputs": [
    {
     "name": "stdout",
     "output_type": "stream",
     "text": [
      "30\n"
     ]
    },
    {
     "data": {
      "text/plain": [
       "30"
      ]
     },
     "execution_count": 3,
     "metadata": {},
     "output_type": "execute_result"
    }
   ],
   "source": [
    "a = 10\n",
    "b = 20\n",
    "sum = a + b\n",
    "print(sum)\n",
    "a+b"
   ]
  },
  {
   "cell_type": "markdown",
   "id": "9cbe7a71",
   "metadata": {},
   "source": [
    "### type"
   ]
  },
  {
   "cell_type": "code",
   "execution_count": 37,
   "id": "1e48a6b1",
   "metadata": {},
   "outputs": [
    {
     "name": "stdout",
     "output_type": "stream",
     "text": [
      "<class 'int'>\n",
      "<class 'str'>\n"
     ]
    }
   ],
   "source": [
    "a = 10\n",
    "print(type(a))\n",
    "b = \"sakshi\"\n",
    "print(type(b))"
   ]
  },
  {
   "cell_type": "markdown",
   "id": "9d0ec300",
   "metadata": {},
   "source": [
    "### id"
   ]
  },
  {
   "cell_type": "code",
   "execution_count": 16,
   "id": "3e973732",
   "metadata": {},
   "outputs": [
    {
     "name": "stdout",
     "output_type": "stream",
     "text": [
      "2569890562576\n",
      "11\n",
      "2569890562608\n",
      "2569970511856\n"
     ]
    },
    {
     "data": {
      "text/plain": [
       "'sakshi'"
      ]
     },
     "execution_count": 16,
     "metadata": {},
     "output_type": "execute_result"
    }
   ],
   "source": [
    "a = 10\n",
    "print(id(a))\n",
    "a = a+1\n",
    "print(a)\n",
    "print(id(a))\n",
    "a = \"sakshi\"\n",
    "print(id(a))\n",
    "a \n"
   ]
  },
  {
   "cell_type": "code",
   "execution_count": 20,
   "id": "e778ab0f",
   "metadata": {},
   "outputs": [
    {
     "name": "stdout",
     "output_type": "stream",
     "text": [
      "2569890562576\n",
      "2569890562576\n",
      "\n",
      "2569970163952\n",
      "2569970165488\n"
     ]
    }
   ],
   "source": [
    "#numbers in range -5...256 will have the optimization given below\n",
    "a = 10\n",
    "b = 10\n",
    "print(id(a))\n",
    "print(id(b))\n",
    "print()\n",
    "#other numbers will have the optimization given below\n",
    "a = 1000\n",
    "b = 1000\n",
    "print(id(a))\n",
    "print(id(b))"
   ]
  },
  {
   "cell_type": "markdown",
   "id": "a7273b87",
   "metadata": {},
   "source": [
    "### Arithmetic operations"
   ]
  },
  {
   "cell_type": "code",
   "execution_count": 23,
   "id": "8ae64ec2",
   "metadata": {},
   "outputs": [
    {
     "name": "stdout",
     "output_type": "stream",
     "text": [
      "2.5\n",
      "2\n",
      "40\n",
      "10000\n",
      "2\n"
     ]
    }
   ],
   "source": [
    "a = 10\n",
    "b = 4\n",
    "\n",
    "print(a/b)     #floating point div\n",
    "print(a//b)    #int div\n",
    "print(a*b)     #muliplication\n",
    "print(a**b)    #exponential\n",
    "print(a%b)     #mod"
   ]
  },
  {
   "cell_type": "markdown",
   "id": "41eb9c22",
   "metadata": {},
   "source": [
    "### simple interest"
   ]
  },
  {
   "cell_type": "code",
   "execution_count": 30,
   "id": "d729c896",
   "metadata": {},
   "outputs": [
    {
     "name": "stdout",
     "output_type": "stream",
     "text": [
      "enter p: 100\n",
      "enter r: 4\n",
      "enter time: 2\n",
      "simple interest:  8.0\n"
     ]
    }
   ],
   "source": [
    "p = float(input(\"enter p: \"))\n",
    "r = int(input(\"enter r: \"))\n",
    "t = int(input(\"enter time: \"))\n",
    "\n",
    "si = (p*r*t)/100\n",
    "print(\"simple interest: \", si)\n",
    "\n"
   ]
  },
  {
   "cell_type": "markdown",
   "id": "20492f4d",
   "metadata": {},
   "source": [
    "### fah to celcius"
   ]
  },
  {
   "cell_type": "code",
   "execution_count": 29,
   "id": "e35c35ba",
   "metadata": {},
   "outputs": [
    {
     "name": "stdout",
     "output_type": "stream",
     "text": [
      "enter fah val:100\n",
      "celcius val:  37.77777777777778\n"
     ]
    }
   ],
   "source": [
    "f = float(input(\"enter fah val:\" ))\n",
    "c = (f - 32) * 5/9\n",
    "print(\"celcius val: \",c)"
   ]
  },
  {
   "cell_type": "markdown",
   "id": "0df80576",
   "metadata": {},
   "source": [
    "### avg marks"
   ]
  },
  {
   "cell_type": "code",
   "execution_count": 32,
   "id": "66cf545a",
   "metadata": {},
   "outputs": [
    {
     "name": "stdout",
     "output_type": "stream",
     "text": [
      "5\n",
      "10\n",
      "5\n",
      "average marks:  6.666666666666667\n"
     ]
    }
   ],
   "source": [
    "m1 = int(input())\n",
    "m2 = int(input())\n",
    "m3 = int(input())\n",
    "avg = (m1+m2+m3)/3\n",
    "print(\"average marks: \", avg)"
   ]
  },
  {
   "cell_type": "markdown",
   "id": "e00e2b6a",
   "metadata": {},
   "source": [
    "### assignment1"
   ]
  },
  {
   "cell_type": "code",
   "execution_count": 33,
   "id": "9d534a83",
   "metadata": {},
   "outputs": [
    {
     "name": "stdout",
     "output_type": "stream",
     "text": [
      "10\n",
      "3\n",
      "1000\n"
     ]
    }
   ],
   "source": [
    "#power\n",
    "x = int(input())\n",
    "n = int(input())\n",
    "p = x**n\n",
    "print(p)"
   ]
  },
  {
   "cell_type": "code",
   "execution_count": 35,
   "id": "91ee9635",
   "metadata": {},
   "outputs": [
    {
     "name": "stdout",
     "output_type": "stream",
     "text": [
      "1\n",
      "3\n",
      "5\n",
      "difference 2\n"
     ]
    }
   ],
   "source": [
    "#AP\n",
    "n1 = int(input())\n",
    "n2 = int(input())\n",
    "n3 = int(input())\n",
    "d = n3 - n2\n",
    "print(\"difference\",d)\n"
   ]
  },
  {
   "cell_type": "code",
   "execution_count": 36,
   "id": "7f0e7971",
   "metadata": {},
   "outputs": [
    {
     "name": "stdout",
     "output_type": "stream",
     "text": [
      "enter length: 10\n",
      "enter breadth: 20\n",
      "area of rec:  200\n"
     ]
    }
   ],
   "source": [
    "#area of rectangle\n",
    "l = int(input(\"enter length: \"))\n",
    "b = int(input(\"enter breadth: \"))\n",
    "area = l*b\n",
    "print(\"area of rec: \", area)"
   ]
  }
 ],
 "metadata": {
  "kernelspec": {
   "display_name": "Python 3 (ipykernel)",
   "language": "python",
   "name": "python3"
  },
  "language_info": {
   "codemirror_mode": {
    "name": "ipython",
    "version": 3
   },
   "file_extension": ".py",
   "mimetype": "text/x-python",
   "name": "python",
   "nbconvert_exporter": "python",
   "pygments_lexer": "ipython3",
   "version": "3.10.1"
  }
 },
 "nbformat": 4,
 "nbformat_minor": 5
}
