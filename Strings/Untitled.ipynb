{
 "cells": [
  {
   "cell_type": "markdown",
   "id": "dcc2b380",
   "metadata": {},
   "source": [
    "### frequency of a given letter"
   ]
  },
  {
   "cell_type": "code",
   "execution_count": 5,
   "id": "390403c2",
   "metadata": {},
   "outputs": [
    {
     "name": "stdout",
     "output_type": "stream",
     "text": [
      "sakshi is a good girl\n",
      "s\n",
      "3\n"
     ]
    }
   ],
   "source": [
    "string = str(input())\n",
    "target = str(input())\n",
    "count = 0\n",
    "for letter in string:\n",
    "    if(letter == target):\n",
    "        count += 1\n",
    "print(count)"
   ]
  },
  {
   "cell_type": "markdown",
   "id": "bdfe7672",
   "metadata": {},
   "source": [
    "### in and notin operator"
   ]
  },
  {
   "cell_type": "code",
   "execution_count": 3,
   "id": "3f36ef5d",
   "metadata": {},
   "outputs": [
    {
     "name": "stdout",
     "output_type": "stream",
     "text": [
      "yes it is a substring!\n"
     ]
    }
   ],
   "source": [
    "string = \"hello world\"\n",
    "if 'llo' in string:\n",
    "    print(\"yes it is a substring!\")\n",
    "else:\n",
    "    print(\"not a substring!\")"
   ]
  },
  {
   "cell_type": "code",
   "execution_count": null,
   "id": "215bd762",
   "metadata": {},
   "outputs": [],
   "source": []
  },
  {
   "cell_type": "code",
   "execution_count": 8,
   "id": "6f800ae4",
   "metadata": {},
   "outputs": [
    {
     "name": "stdout",
     "output_type": "stream",
     "text": [
      "hello\n"
     ]
    },
    {
     "ename": "IndexError",
     "evalue": "string index out of range",
     "output_type": "error",
     "traceback": [
      "\u001b[1;31m---------------------------------------------------------------------------\u001b[0m",
      "\u001b[1;31mIndexError\u001b[0m                                Traceback (most recent call last)",
      "\u001b[1;32m~\\AppData\\Local\\Temp/ipykernel_4176/1778891205.py\u001b[0m in \u001b[0;36m<module>\u001b[1;34m\u001b[0m\n\u001b[0;32m      2\u001b[0m \u001b[0mcount\u001b[0m \u001b[1;33m=\u001b[0m \u001b[1;36m0\u001b[0m\u001b[1;33m\u001b[0m\u001b[1;33m\u001b[0m\u001b[0m\n\u001b[0;32m      3\u001b[0m \u001b[1;32mfor\u001b[0m \u001b[0mi\u001b[0m \u001b[1;32min\u001b[0m \u001b[0mrange\u001b[0m\u001b[1;33m(\u001b[0m\u001b[0mlen\u001b[0m\u001b[1;33m(\u001b[0m\u001b[0mst\u001b[0m\u001b[1;33m)\u001b[0m\u001b[1;33m+\u001b[0m\u001b[1;36m2\u001b[0m\u001b[1;33m)\u001b[0m\u001b[1;33m:\u001b[0m\u001b[1;33m\u001b[0m\u001b[1;33m\u001b[0m\u001b[0m\n\u001b[1;32m----> 4\u001b[1;33m     \u001b[1;32mif\u001b[0m\u001b[1;33m(\u001b[0m\u001b[0mst\u001b[0m\u001b[1;33m[\u001b[0m\u001b[0mi\u001b[0m\u001b[1;33m]\u001b[0m \u001b[1;33m==\u001b[0m \u001b[0mst\u001b[0m\u001b[1;33m[\u001b[0m\u001b[0mi\u001b[0m\u001b[1;33m+\u001b[0m\u001b[1;36m1\u001b[0m\u001b[1;33m]\u001b[0m\u001b[1;33m)\u001b[0m\u001b[1;33m:\u001b[0m\u001b[1;33m\u001b[0m\u001b[1;33m\u001b[0m\u001b[0m\n\u001b[0m\u001b[0;32m      5\u001b[0m         \u001b[0mcount\u001b[0m \u001b[1;33m+=\u001b[0m \u001b[1;36m1\u001b[0m\u001b[1;33m\u001b[0m\u001b[1;33m\u001b[0m\u001b[0m\n\u001b[0;32m      6\u001b[0m \u001b[1;32mfor\u001b[0m \u001b[0mletter\u001b[0m \u001b[1;32min\u001b[0m \u001b[0mst\u001b[0m\u001b[1;33m:\u001b[0m\u001b[1;33m\u001b[0m\u001b[1;33m\u001b[0m\u001b[0m\n",
      "\u001b[1;31mIndexError\u001b[0m: string index out of range"
     ]
    }
   ],
   "source": [
    "st = str(input())\n",
    "count = 0\n",
    "for i in range(len(st)):\n",
    "    if(st[i] == st[i+1]):\n",
    "        count += 1\n",
    "for letter in st:\n",
    "    print(count)"
   ]
  },
  {
   "cell_type": "markdown",
   "id": "97ec4beb",
   "metadata": {},
   "source": [
    "### replacing a char in string\n"
   ]
  },
  {
   "cell_type": "code",
   "execution_count": 9,
   "id": "951b5db2",
   "metadata": {},
   "outputs": [
    {
     "name": "stdout",
     "output_type": "stream",
     "text": [
      "ebcde\n"
     ]
    }
   ],
   "source": [
    "str = \"abcda\"\n",
    "str = str.replace(\"a\", \"e\")\n",
    "print(str)"
   ]
  },
  {
   "cell_type": "code",
   "execution_count": 22,
   "id": "19bbf401",
   "metadata": {},
   "outputs": [
    {
     "name": "stdout",
     "output_type": "stream",
     "text": [
      "hello world\n",
      "l\n",
      "s\n",
      "hesso worsd\n"
     ]
    }
   ],
   "source": [
    "def replace_string(st, char1, char2):\n",
    "    newstr = \"\"\n",
    "    for char in st:\n",
    "        if(char == char1):\n",
    "            newstr += char2\n",
    "        else:\n",
    "            newstr += char\n",
    "    return newstr\n",
    "\n",
    "\n",
    "st = input()\n",
    "x = input()\n",
    "y = input()\n",
    "st = replace_string(st, x, y)\n",
    "print(st)"
   ]
  },
  {
   "cell_type": "markdown",
   "id": "cfc28f6c",
   "metadata": {},
   "source": [
    "### count no of vowel and consonants in string"
   ]
  },
  {
   "cell_type": "code",
   "execution_count": 27,
   "id": "7e411b59",
   "metadata": {},
   "outputs": [
    {
     "name": "stdout",
     "output_type": "stream",
     "text": [
      "Sakshi@1105\n",
      "2 4 4 1\n"
     ]
    }
   ],
   "source": [
    "def checkString(str):\n",
    "    v,c,d,s = 0,0,0,0\n",
    "    for char in str:\n",
    "        if((char >= \"A\" and char <= \"Z\") or (char >= \"a\" and char <= \"z\")):\n",
    "            \n",
    "            char = char.lower()\n",
    "            if(char == \"a\" or char == \"e\" or char == \"i\" or char == \"o\" or char == \"u\"):\n",
    "                v += 1\n",
    "            else:\n",
    "                c += 1\n",
    "        elif(char >= '0' and char <= '9'):\n",
    "            d += 1\n",
    "        else:\n",
    "            s += 1\n",
    "    return v,c,d,s\n",
    "            \n",
    "\n",
    "str = input()\n",
    "v,c,d,s = checkString(str)\n",
    "print(v,c,d,s)"
   ]
  }
 ],
 "metadata": {
  "kernelspec": {
   "display_name": "Python 3 (ipykernel)",
   "language": "python",
   "name": "python3"
  },
  "language_info": {
   "codemirror_mode": {
    "name": "ipython",
    "version": 3
   },
   "file_extension": ".py",
   "mimetype": "text/x-python",
   "name": "python",
   "nbconvert_exporter": "python",
   "pygments_lexer": "ipython3",
   "version": "3.10.1"
  }
 },
 "nbformat": 4,
 "nbformat_minor": 5
}
