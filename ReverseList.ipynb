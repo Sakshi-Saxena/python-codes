{
 "cells": [
  {
   "cell_type": "code",
   "execution_count": 1,
   "id": "e7c439d8",
   "metadata": {},
   "outputs": [
    {
     "name": "stdout",
     "output_type": "stream",
     "text": [
      "5\n",
      "1 2 3 4 5 \n",
      "[5, 4, 3, 2, 1]\n"
     ]
    }
   ],
   "source": [
    "def Rev_Li(li):\n",
    "    length = len(li)\n",
    "    for i in range(length//2):\n",
    "        li[i], li[length-i-1] = li[length-i-1], li[i]\n",
    "\n",
    "\n",
    "n = int(input())\n",
    "li = [int(x) for x in input().split()]\n",
    "Rev_Li(li)\n",
    "print(li)"
   ]
  },
  {
   "cell_type": "markdown",
   "id": "1f003295",
   "metadata": {},
   "source": [
    "### rev a list using list.reverse() function"
   ]
  },
  {
   "cell_type": "code",
   "execution_count": 2,
   "id": "d1a5aa33",
   "metadata": {},
   "outputs": [
    {
     "name": "stdout",
     "output_type": "stream",
     "text": [
      "5\n",
      "1 2 3 4 5\n",
      "[5, 4, 3, 2, 1]\n"
     ]
    }
   ],
   "source": [
    "n = int(input())\n",
    "li = [int(x) for x in input().split()]\n",
    "li.reverse()\n",
    "print(li)"
   ]
  },
  {
   "cell_type": "markdown",
   "id": "2b2e7c4d",
   "metadata": {},
   "source": [
    "### using slicing"
   ]
  },
  {
   "cell_type": "code",
   "execution_count": 4,
   "id": "c4705e78",
   "metadata": {},
   "outputs": [
    {
     "name": "stdout",
     "output_type": "stream",
     "text": [
      "5\n",
      "11 22 33 4 55\n",
      "[55, 4, 33, 22, 11]\n"
     ]
    }
   ],
   "source": [
    "n = int(input())\n",
    "li = [int(x) for x in input().split()]\n",
    "rev_li = li[::-1]\n",
    "print(rev_li)"
   ]
  },
  {
   "cell_type": "markdown",
   "id": "391970e2",
   "metadata": {},
   "source": [
    "### using reversed() order"
   ]
  },
  {
   "cell_type": "code",
   "execution_count": 7,
   "id": "ee9cb3ce",
   "metadata": {},
   "outputs": [
    {
     "name": "stdout",
     "output_type": "stream",
     "text": [
      "5\n",
      "1 34 76 82 99\n",
      "99 82 76 34 1 "
     ]
    }
   ],
   "source": [
    "n = int(input())\n",
    "li = [int(x) for x in input().split()]\n",
    "for i in reversed(li):\n",
    "    print(i, end= \" \")"
   ]
  }
 ],
 "metadata": {
  "kernelspec": {
   "display_name": "Python 3 (ipykernel)",
   "language": "python",
   "name": "python3"
  },
  "language_info": {
   "codemirror_mode": {
    "name": "ipython",
    "version": 3
   },
   "file_extension": ".py",
   "mimetype": "text/x-python",
   "name": "python",
   "nbconvert_exporter": "python",
   "pygments_lexer": "ipython3",
   "version": "3.10.1"
  }
 },
 "nbformat": 4,
 "nbformat_minor": 5
}
