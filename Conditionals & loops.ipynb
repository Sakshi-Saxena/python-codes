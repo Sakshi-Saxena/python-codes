{
 "cells": [
  {
   "cell_type": "markdown",
   "id": "f2be685c",
   "metadata": {},
   "source": [
    "### even-odd"
   ]
  },
  {
   "cell_type": "code",
   "execution_count": 3,
   "id": "07cfad28",
   "metadata": {},
   "outputs": [
    {
     "name": "stdout",
     "output_type": "stream",
     "text": [
      "100\n",
      "100 is even\n"
     ]
    }
   ],
   "source": [
    "n = int(input())\n",
    "if n%2==0:\n",
    "    print(n, \"is even\")\n",
    "else:\n",
    "    print(n, \"is odd\")\n",
    "    "
   ]
  },
  {
   "cell_type": "markdown",
   "id": "f93bf7c4",
   "metadata": {},
   "source": [
    "### largest of 3 no"
   ]
  },
  {
   "cell_type": "code",
   "execution_count": 11,
   "id": "c9290998",
   "metadata": {},
   "outputs": [
    {
     "name": "stdout",
     "output_type": "stream",
     "text": [
      "12\n",
      "13\n",
      "14\n",
      "14 c is largest\n"
     ]
    }
   ],
   "source": [
    "a = int(input())\n",
    "b = int(input())\n",
    "c = int(input())\n",
    "\n",
    "if a>=b and a>=c:\n",
    "    print(a, \"a is largest\")\n",
    "elif b>=c:\n",
    "    print(b, \"b is largest\")\n",
    "else:\n",
    "    print(c, \"c is largest\")"
   ]
  },
  {
   "cell_type": "markdown",
   "id": "364f674d",
   "metadata": {},
   "source": [
    "### pos, neg, zero"
   ]
  },
  {
   "cell_type": "code",
   "execution_count": 1,
   "id": "5ce6a978",
   "metadata": {},
   "outputs": [
    {
     "name": "stdout",
     "output_type": "stream",
     "text": [
      "0\n",
      "zero\n"
     ]
    }
   ],
   "source": [
    "n = int(input())\n",
    "if n>0:\n",
    "    print(\"positive\")\n",
    "elif n<0:\n",
    "    print(\"negative\")\n",
    "else:\n",
    "    print(\"zero\")"
   ]
  },
  {
   "cell_type": "markdown",
   "id": "0b7c30c7",
   "metadata": {},
   "source": [
    "### first n natural nos\n"
   ]
  },
  {
   "cell_type": "code",
   "execution_count": 4,
   "id": "772f6dbc",
   "metadata": {},
   "outputs": [
    {
     "name": "stdout",
     "output_type": "stream",
     "text": [
      "5\n",
      "1\n",
      "2\n",
      "3\n",
      "4\n",
      "5\n"
     ]
    }
   ],
   "source": [
    "n = int(input())\n",
    "count = 1\n",
    "while count <= n:\n",
    "    print(count)\n",
    "    count = count + 1"
   ]
  },
  {
   "cell_type": "markdown",
   "id": "86030adc",
   "metadata": {},
   "source": [
    "### sum of n numbers"
   ]
  },
  {
   "cell_type": "code",
   "execution_count": 13,
   "id": "01967854",
   "metadata": {},
   "outputs": [
    {
     "name": "stdout",
     "output_type": "stream",
     "text": [
      "20\n",
      "210\n"
     ]
    }
   ],
   "source": [
    "# n = int(input())\n",
    "# sum = 0\n",
    "# while n>0:\n",
    "#     sum += n\n",
    "#     n = n-1\n",
    "# print(sum) \n",
    "\n",
    "##without loop\n",
    "n = int(input())\n",
    "sum = (n*(n+1))//2\n",
    "print(sum)"
   ]
  },
  {
   "cell_type": "markdown",
   "id": "22393138",
   "metadata": {},
   "source": [
    "### sum of even nos"
   ]
  },
  {
   "cell_type": "code",
   "execution_count": 15,
   "id": "71f8b4ee",
   "metadata": {},
   "outputs": [
    {
     "name": "stdout",
     "output_type": "stream",
     "text": [
      "7\n",
      "12\n"
     ]
    }
   ],
   "source": [
    "n = int(input())\n",
    "sum = 0\n",
    "i = 0\n",
    "while i<=n:\n",
    "    sum += i\n",
    "    i= i+2\n",
    "print(sum)    \n",
    "    \n",
    "    \n",
    "    "
   ]
  },
  {
   "cell_type": "markdown",
   "id": "b5145179",
   "metadata": {},
   "source": [
    "### prime nos"
   ]
  },
  {
   "cell_type": "code",
   "execution_count": 20,
   "id": "ef68502b",
   "metadata": {},
   "outputs": [
    {
     "name": "stdout",
     "output_type": "stream",
     "text": [
      "7\n",
      "7 is prime\n"
     ]
    }
   ],
   "source": [
    "n = int(input())\n",
    "flag = False\n",
    "d = 2\n",
    "while d < n:\n",
    "    if n%d == 0:\n",
    "        flag = True\n",
    "        break\n",
    "    d += 1\n",
    "    \n",
    "if flag:\n",
    "    print(n, \"is not prime\")\n",
    "else:\n",
    "    print(n, \"is prime\")\n",
    "    "
   ]
  },
  {
   "cell_type": "markdown",
   "id": "5668f723",
   "metadata": {},
   "source": [
    "### prime nos in range"
   ]
  },
  {
   "cell_type": "code",
   "execution_count": 1,
   "id": "78a279c6",
   "metadata": {},
   "outputs": [
    {
     "name": "stdout",
     "output_type": "stream",
     "text": [
      "10\n",
      "2\n",
      "3\n",
      "5\n",
      "7\n"
     ]
    }
   ],
   "source": [
    "n = int(input())\n",
    "k = 2\n",
    "while k <= n:\n",
    "    flag = False\n",
    "    d = 2\n",
    "    while d < k:\n",
    "        if k%d == 0:\n",
    "            flag = True\n",
    "            break\n",
    "        d += 1\n",
    "    if not(flag):\n",
    "        print(k)  \n",
    "    k = k+1         "
   ]
  },
  {
   "cell_type": "markdown",
   "id": "223ed84b",
   "metadata": {},
   "source": [
    "### fah to celcius in given range"
   ]
  },
  {
   "cell_type": "code",
   "execution_count": 7,
   "id": "2969f03d",
   "metadata": {},
   "outputs": [
    {
     "name": "stdout",
     "output_type": "stream",
     "text": [
      "20\n",
      "120\n",
      "12\n",
      "20 \t -6.666666666666667\n",
      "32 \t 0.0\n",
      "44 \t 6.666666666666667\n",
      "56 \t 13.333333333333334\n",
      "68 \t 20.0\n",
      "80 \t 26.666666666666668\n",
      "92 \t 33.333333333333336\n",
      "104 \t 40.0\n",
      "116 \t 46.66666666666667\n"
     ]
    }
   ],
   "source": [
    "start = int(input())\n",
    "end = int(input())\n",
    "gap = int(input())\n",
    "\n",
    "currentval = start\n",
    "while currentval <= end:\n",
    "    celciusval = (5/9)*(currentval-32)\n",
    "    print(currentval, \"\\t\", celciusval)\n",
    "    currentval += gap"
   ]
  },
  {
   "cell_type": "markdown",
   "id": "4ff305a4",
   "metadata": {},
   "source": [
    "## FOR LOOP"
   ]
  },
  {
   "cell_type": "code",
   "execution_count": 1,
   "id": "2cef2ece",
   "metadata": {},
   "outputs": [
    {
     "name": "stdout",
     "output_type": "stream",
     "text": [
      "a\n",
      "b\n",
      "c\n",
      "d\n"
     ]
    }
   ],
   "source": [
    "s = \"abcd\"\n",
    "for i in s:\n",
    "    print(i)"
   ]
  },
  {
   "cell_type": "code",
   "execution_count": 2,
   "id": "0d2922f6",
   "metadata": {},
   "outputs": [
    {
     "name": "stdout",
     "output_type": "stream",
     "text": [
      "4\n",
      "1\n",
      "2\n",
      "3\n",
      "4\n"
     ]
    }
   ],
   "source": [
    "## print num from 1 to n\n",
    "n = int(input())\n",
    "for i in range(1, n+1, 1):    ##range(start, stop, stride)\n",
    "    print(i)"
   ]
  },
  {
   "cell_type": "code",
   "execution_count": 3,
   "id": "246effe3",
   "metadata": {},
   "outputs": [
    {
     "name": "stdout",
     "output_type": "stream",
     "text": [
      "4\n",
      "0\n",
      "1\n",
      "2\n",
      "3\n",
      "4\n"
     ]
    }
   ],
   "source": [
    "n = int(input())\n",
    "for i in range(n+1):    ## by default it will take start->0, stride(inc)->1 \n",
    "    print(i)"
   ]
  },
  {
   "cell_type": "code",
   "execution_count": 4,
   "id": "52422bed",
   "metadata": {},
   "outputs": [
    {
     "name": "stdout",
     "output_type": "stream",
     "text": [
      "4\n",
      "4\n",
      "3\n",
      "2\n",
      "1\n"
     ]
    }
   ],
   "source": [
    "## print num from n to 1\n",
    "n = int(input())\n",
    "for i in range(n, 0, -1):    ##range(start, stop, stride)\n",
    "    print(i)"
   ]
  },
  {
   "cell_type": "code",
   "execution_count": 5,
   "id": "f3a0ccbc",
   "metadata": {},
   "outputs": [
    {
     "name": "stdout",
     "output_type": "stream",
     "text": [
      "10\n",
      "20\n",
      "10 11 12 13 14 15 16 17 18 19 20 "
     ]
    }
   ],
   "source": [
    "## print num in range\n",
    "a = int(input())\n",
    "b = int(input())\n",
    "for i in range(a, b+1, 1):\n",
    "    print(i, end=\" \")"
   ]
  },
  {
   "cell_type": "markdown",
   "id": "44dbb14f",
   "metadata": {},
   "source": [
    "### multiple of 3"
   ]
  },
  {
   "cell_type": "code",
   "execution_count": 10,
   "id": "2fc2cd5c",
   "metadata": {},
   "outputs": [
    {
     "name": "stdout",
     "output_type": "stream",
     "text": [
      "2\n",
      "30\n",
      "3\n",
      "6\n",
      "9\n",
      "12\n",
      "15\n",
      "18\n",
      "21\n",
      "24\n",
      "27\n",
      "30\n"
     ]
    }
   ],
   "source": [
    "a = int(input())\n",
    "b = int(input())\n",
    "\n",
    "for i in range(s, b+1, 1):\n",
    "    if i % 3 == 0:\n",
    "        print(i)"
   ]
  },
  {
   "cell_type": "code",
   "execution_count": 8,
   "id": "6ac68421",
   "metadata": {},
   "outputs": [
    {
     "name": "stdout",
     "output_type": "stream",
     "text": [
      "2\n",
      "30\n",
      "3\n",
      "6\n",
      "9\n",
      "12\n",
      "15\n",
      "18\n",
      "21\n",
      "24\n",
      "27\n",
      "30\n"
     ]
    }
   ],
   "source": [
    "a = int(input())\n",
    "b = int(input())\n",
    "\n",
    "if a % 3 == 0:\n",
    "    s = a\n",
    "elif a % 3 == 1:\n",
    "    s = a+2\n",
    "else:\n",
    "    s = a+1\n",
    "    \n",
    "for i in range(s, b+1, 3):\n",
    "    print(i)"
   ]
  },
  {
   "cell_type": "markdown",
   "id": "86fb326a",
   "metadata": {},
   "source": [
    "### table of any no"
   ]
  },
  {
   "cell_type": "code",
   "execution_count": 14,
   "id": "63892782",
   "metadata": {},
   "outputs": [
    {
     "name": "stdout",
     "output_type": "stream",
     "text": [
      "13\n",
      "13 x 1 = 13\n",
      "13 x 2 = 26\n",
      "13 x 3 = 39\n",
      "13 x 4 = 52\n",
      "13 x 5 = 65\n",
      "13 x 6 = 78\n",
      "13 x 7 = 91\n",
      "13 x 8 = 104\n",
      "13 x 9 = 117\n",
      "13 x 10 = 130\n"
     ]
    }
   ],
   "source": [
    "n = int(input())\n",
    "for i in range(1, 11):\n",
    "    print(n, \"x\", i, \"=\", n*i)"
   ]
  },
  {
   "cell_type": "code",
   "execution_count": 17,
   "id": "ce70e71d",
   "metadata": {},
   "outputs": [
    {
     "name": "stdout",
     "output_type": "stream",
     "text": [
      "9\n",
      "not prime\n"
     ]
    }
   ],
   "source": [
    "### prime no\n",
    "n = int(input())\n",
    "flag = False\n",
    "for i in range(2, n, 1):\n",
    "    if n % i == 0:\n",
    "        flag = True\n",
    "        break\n",
    "\n",
    "if flag:\n",
    "    print(\"not prime\")\n",
    "else:\n",
    "    print(\"prime\")\n"
   ]
  },
  {
   "cell_type": "markdown",
   "id": "4e819715",
   "metadata": {},
   "source": [
    "### ELSE WITH BREAK"
   ]
  },
  {
   "cell_type": "code",
   "execution_count": 2,
   "id": "613571ac",
   "metadata": {},
   "outputs": [
    {
     "name": "stdout",
     "output_type": "stream",
     "text": [
      "10\n",
      "1\n",
      "2\n",
      "3\n",
      "4\n",
      "5\n",
      "6\n",
      "7\n",
      "8\n",
      "9\n",
      "I am in else part!!\n"
     ]
    }
   ],
   "source": [
    "### we an use else with loops as well. after the condition in loop will be false then else will be executed\n",
    "n = int(input())\n",
    "for i in range(1, n):\n",
    "    print(i)\n",
    "else:\n",
    "    print(\"I am in else part!!\")\n",
    "    "
   ]
  },
  {
   "cell_type": "code",
   "execution_count": 4,
   "id": "73336cf1",
   "metadata": {},
   "outputs": [
    {
     "name": "stdout",
     "output_type": "stream",
     "text": [
      "10\n",
      "1\n",
      "2\n",
      "3\n",
      "4\n"
     ]
    }
   ],
   "source": [
    "### if we loop is terminated due to break then else will not work\n",
    "n = int(input())\n",
    "for i in range(1, n):\n",
    "    if i == 5:\n",
    "        break\n",
    "    print(i)\n",
    "else:\n",
    "    print(\"I am in else part!!\")"
   ]
  },
  {
   "cell_type": "code",
   "execution_count": 6,
   "id": "0d74d722",
   "metadata": {},
   "outputs": [
    {
     "name": "stdout",
     "output_type": "stream",
     "text": [
      "7\n",
      "prime number!\n"
     ]
    }
   ],
   "source": [
    "n = int(input())\n",
    "d = 2\n",
    "while d < n:\n",
    "    if n%d == 0:\n",
    "        break\n",
    "    d += 1\n",
    "else:\n",
    "    print(\"prime number!\")"
   ]
  },
  {
   "cell_type": "markdown",
   "id": "e16aee86",
   "metadata": {},
   "source": [
    "### CONTINUE"
   ]
  },
  {
   "cell_type": "code",
   "execution_count": 8,
   "id": "8dc6bbf8",
   "metadata": {},
   "outputs": [
    {
     "name": "stdout",
     "output_type": "stream",
     "text": [
      "100\n",
      "2\n",
      "4\n",
      "6\n",
      "8\n",
      "10\n",
      "12\n",
      "16\n",
      "18\n",
      "20\n",
      "22\n",
      "24\n",
      "26\n",
      "30\n",
      "32\n",
      "34\n",
      "36\n",
      "38\n",
      "40\n",
      "44\n",
      "46\n",
      "48\n",
      "50\n",
      "52\n",
      "54\n",
      "58\n",
      "60\n",
      "62\n",
      "64\n",
      "66\n",
      "68\n",
      "72\n",
      "74\n",
      "76\n",
      "78\n",
      "80\n",
      "82\n",
      "86\n",
      "88\n",
      "90\n",
      "92\n",
      "94\n",
      "96\n",
      "100\n"
     ]
    }
   ],
   "source": [
    "n = int(input())\n",
    "for i in range(2, n+1, 2):\n",
    "    if i % 7 == 0:\n",
    "        continue\n",
    "    print(i)"
   ]
  },
  {
   "cell_type": "code",
   "execution_count": 9,
   "id": "bd28bbce",
   "metadata": {},
   "outputs": [
    {
     "name": "stdout",
     "output_type": "stream",
     "text": [
      "100\n",
      "2\n",
      "2\n",
      "4\n",
      "4\n",
      "6\n",
      "6\n",
      "8\n",
      "8\n",
      "10\n",
      "10\n",
      "12\n",
      "12\n",
      "14\n",
      "16\n",
      "16\n",
      "18\n",
      "18\n",
      "20\n",
      "20\n",
      "22\n",
      "22\n",
      "24\n",
      "24\n",
      "26\n",
      "26\n",
      "28\n",
      "30\n",
      "30\n",
      "32\n",
      "32\n",
      "34\n",
      "34\n",
      "36\n",
      "36\n",
      "38\n",
      "38\n",
      "40\n",
      "40\n",
      "42\n",
      "44\n",
      "44\n",
      "46\n",
      "46\n",
      "48\n",
      "48\n",
      "50\n",
      "50\n",
      "52\n",
      "52\n",
      "54\n",
      "54\n",
      "56\n",
      "58\n",
      "58\n",
      "60\n",
      "60\n",
      "62\n",
      "62\n",
      "64\n",
      "64\n",
      "66\n",
      "66\n",
      "68\n",
      "68\n",
      "70\n",
      "72\n",
      "72\n",
      "74\n",
      "74\n",
      "76\n",
      "76\n",
      "78\n",
      "78\n",
      "80\n",
      "80\n",
      "82\n",
      "82\n",
      "84\n",
      "86\n",
      "86\n",
      "88\n",
      "88\n",
      "90\n",
      "90\n",
      "92\n",
      "92\n",
      "94\n",
      "94\n",
      "96\n",
      "96\n",
      "98\n",
      "100\n",
      "100\n"
     ]
    }
   ],
   "source": [
    "n = int(input())\n",
    "for i in range(2, n+1, 2):\n",
    "    print(i)\n",
    "    if i % 7 == 0:\n",
    "        continue\n",
    "    print(i)"
   ]
  },
  {
   "cell_type": "code",
   "execution_count": 12,
   "id": "adb15c97",
   "metadata": {},
   "outputs": [
    {
     "name": "stdout",
     "output_type": "stream",
     "text": [
      "100\n",
      "2\n",
      "4\n",
      "6\n",
      "8\n",
      "10\n",
      "12\n",
      "16\n",
      "18\n",
      "20\n",
      "22\n",
      "24\n",
      "26\n",
      "30\n",
      "32\n",
      "34\n",
      "36\n",
      "38\n",
      "40\n",
      "44\n",
      "46\n",
      "48\n",
      "50\n",
      "52\n",
      "54\n",
      "58\n",
      "60\n",
      "62\n",
      "64\n",
      "66\n",
      "68\n",
      "72\n",
      "74\n",
      "76\n",
      "78\n",
      "80\n",
      "82\n",
      "86\n",
      "88\n",
      "90\n",
      "92\n",
      "94\n",
      "96\n",
      "100\n"
     ]
    }
   ],
   "source": [
    "n = int(input())\n",
    "i = 2\n",
    "while i<=n:\n",
    "    if i % 7 == 0:\n",
    "        i += 2\n",
    "        continue\n",
    "    print(i)\n",
    "    i += 2"
   ]
  },
  {
   "cell_type": "code",
   "execution_count": 18,
   "id": "01964f4b",
   "metadata": {},
   "outputs": [
    {
     "name": "stdout",
     "output_type": "stream",
     "text": [
      "s\n",
      "t\n",
      "r\n",
      "The end\n"
     ]
    }
   ],
   "source": [
    "for val in \"string\":\n",
    "    if val == \"i\":\n",
    "        break\n",
    "    print(val)\n",
    "     \n",
    "print(\"The end\")\n"
   ]
  },
  {
   "cell_type": "markdown",
   "id": "44cdb2cf",
   "metadata": {},
   "source": [
    "## ASSIGNMENT 2"
   ]
  },
  {
   "cell_type": "code",
   "execution_count": 37,
   "id": "cfc3fed3",
   "metadata": {},
   "outputs": [
    {
     "name": "stdout",
     "output_type": "stream",
     "text": [
      "3\n",
      "1\n",
      "2\n",
      "2\n"
     ]
    }
   ],
   "source": [
    "## calculator\n",
    "n = int(input())\n",
    "\n",
    "if n>=1 and n<=5:\n",
    "    a = int(input())\n",
    "    b = int(input())\n",
    "    if n == 1:\n",
    "        print(a + b)\n",
    "    if n == 2:\n",
    "        print(a - b)\n",
    "    if n == 3:\n",
    "        print(a * b)  \n",
    "    if n == 4:\n",
    "        print(a // b) \n",
    "    if n == 5:\n",
    "        print(a % b)   \n",
    "else:\n",
    "    print(\"Invalid Operation!\")"
   ]
  },
  {
   "cell_type": "code",
   "execution_count": 40,
   "id": "01421bf6",
   "metadata": {},
   "outputs": [
    {
     "name": "stdout",
     "output_type": "stream",
     "text": [
      "123456789\n",
      "987654321"
     ]
    }
   ],
   "source": [
    "### rev a no\n",
    "n = int(input())\n",
    "temp = n\n",
    "while temp > 0:\n",
    "    lastdigit = temp % 10\n",
    "    print(lastdigit, end=\"\")\n",
    "    temp = temp//10"
   ]
  },
  {
   "cell_type": "code",
   "execution_count": 8,
   "id": "e1823663",
   "metadata": {},
   "outputs": [
    {
     "name": "stdout",
     "output_type": "stream",
     "text": [
      "12244221\n",
      "12244221 is palindrome!\n"
     ]
    }
   ],
   "source": [
    "### palindrome\n",
    "n = int(input())\n",
    "temp = n\n",
    "rev = 0\n",
    "while temp > 0:\n",
    "    lastdigit = temp % 10\n",
    "    rev = rev * 10 + lastdigit\n",
    "    temp = temp//10\n",
    "if(n == rev):\n",
    "    print(n, \"is palindrome!\")\n",
    "else:\n",
    "    print(n, \"is not palindrome!\")\n",
    "    "
   ]
  },
  {
   "cell_type": "code",
   "execution_count": 7,
   "id": "5769e27c",
   "metadata": {},
   "outputs": [
    {
     "name": "stdout",
     "output_type": "stream",
     "text": [
      "1234\n",
      "6   4\n"
     ]
    }
   ],
   "source": [
    "### sum of even and odd digits\n",
    "n = int(input())\n",
    "evensum = 0\n",
    "oddsum = 0\n",
    "while n>0:\n",
    "    last = n % 10\n",
    "    \n",
    "    if last%2 == 0:\n",
    "        evensum += last\n",
    "    else:\n",
    "        oddsum += last\n",
    "    n //= 10\n",
    "print(evensum, \" \", oddsum)    \n",
    "    "
   ]
  },
  {
   "cell_type": "code",
   "execution_count": 14,
   "id": "1a904521",
   "metadata": {},
   "outputs": [
    {
     "name": "stdout",
     "output_type": "stream",
     "text": [
      "13\n",
      "0 1 1 2 3 5 8 13 21 34 55 89 144 "
     ]
    }
   ],
   "source": [
    "### fabonicci series\n",
    "n = int(input())\n",
    "t1 = 0\n",
    "t2 = 1\n",
    "count = 0\n",
    "while count < n:\n",
    "    print(t1, end=\" \")\n",
    "    nth = t1 + t2\n",
    "    ##update the values\n",
    "    t1 = t2\n",
    "    t2 = nth\n",
    "    count += 1"
   ]
  },
  {
   "cell_type": "code",
   "execution_count": 13,
   "id": "641b0adb",
   "metadata": {},
   "outputs": [
    {
     "name": "stdout",
     "output_type": "stream",
     "text": [
      "7\n",
      "13\n"
     ]
    }
   ],
   "source": [
    "### fabonicci num\n",
    "n = int(input())\n",
    "a = 1\n",
    "b = 1\n",
    "for i in range(1, n):\n",
    "    c = a+b\n",
    "    a = b\n",
    "    b = c\n",
    "print(a)    "
   ]
  },
  {
   "cell_type": "code",
   "execution_count": 18,
   "id": "c5509620",
   "metadata": {},
   "outputs": [
    {
     "name": "stdout",
     "output_type": "stream",
     "text": [
      "enter the num: 13\n",
      "enter 1st num of series: 2\n",
      "enter 2nd num of series: 3\n",
      "2 3 5 8 13 21 34 55 89 144 233 377 610 "
     ]
    }
   ],
   "source": [
    "### fabonicci series\n",
    "n = int(input(\"enter the num: \"))\n",
    "a = int(input(\"enter 1st num of series: \"))\n",
    "b = int(input(\"enter 2nd num of series: \"))\n",
    "count = a\n",
    "while count<=n+1:\n",
    "    print(a, end=\" \")\n",
    "    nth = a+b\n",
    "    a=b\n",
    "    b=nth\n",
    "    count += 1\n",
    "    "
   ]
  }
 ],
 "metadata": {
  "kernelspec": {
   "display_name": "Python 3 (ipykernel)",
   "language": "python",
   "name": "python3"
  },
  "language_info": {
   "codemirror_mode": {
    "name": "ipython",
    "version": 3
   },
   "file_extension": ".py",
   "mimetype": "text/x-python",
   "name": "python",
   "nbconvert_exporter": "python",
   "pygments_lexer": "ipython3",
   "version": "3.10.1"
  }
 },
 "nbformat": 4,
 "nbformat_minor": 5
}
