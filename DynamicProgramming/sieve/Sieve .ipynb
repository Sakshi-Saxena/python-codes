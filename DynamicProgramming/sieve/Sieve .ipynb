{
 "cells": [
  {
   "cell_type": "markdown",
   "id": "f4bd38b4",
   "metadata": {},
   "source": [
    "## Simple Sieve"
   ]
  },
  {
   "cell_type": "code",
   "execution_count": 3,
   "id": "475f3de4",
   "metadata": {},
   "outputs": [
    {
     "name": "stdout",
     "output_type": "stream",
     "text": [
      "[2, 3, 5, 7, 11, 13, 17, 19, 23, 29, 31, 37, 41, 43, 47, 53, 59, 61, 67, 71, 73, 79, 83, 89, 97]\n"
     ]
    }
   ],
   "source": [
    "import math\n",
    "prime = []\n",
    "\n",
    "def createSieve(n):\n",
    "    sieve = [True for i in range(n+1)]\n",
    "    i = 2\n",
    "    while(i*i <= n):\n",
    "        if(sieve[i] == True):\n",
    "            for j in range(i*i, n+1, i):\n",
    "                sieve[j] = False\n",
    "        i += 1\n",
    "    for i in range(2, n):\n",
    "        if(sieve[i]):\n",
    "            prime.append(i)\n",
    "    print(prime)\n",
    "        \n",
    "        \n",
    "n = 100\n",
    "createSieve(n)"
   ]
  },
  {
   "cell_type": "markdown",
   "id": "41a4316e",
   "metadata": {},
   "source": [
    "## Segmented Sieve"
   ]
  },
  {
   "cell_type": "code",
   "execution_count": 25,
   "id": "4faea2a0",
   "metadata": {},
   "outputs": [
    {
     "name": "stdout",
     "output_type": "stream",
     "text": [
      "Primes smaller than 100 :\n",
      "2 3 5 7 11 13 17 19 23 29 31 37 41 43 47 53 59 61 67 71 73 79 83 89 97 "
     ]
    }
   ],
   "source": [
    "import math\n",
    "prime = []\n",
    "\n",
    "def simpleSieve(limit):\n",
    "\tsieve = [True for i in range(limit + 1)]\n",
    "\tp = 2\n",
    "\twhile (p * p <= limit):\n",
    "\t\t\n",
    "\t\t# If p is not changed, then it is a prime\n",
    "\t\tif (sieve[p] == True):\n",
    "\t\t\t\n",
    "\t\t\t# Update all multiples of p\n",
    "\t\t\tfor i in range(p * p, limit + 1, p):\n",
    "\t\t\t\tsieve[i] = False\n",
    "\t\tp += 1\n",
    "\t\t\n",
    "\n",
    "\tfor p in range(2, limit):\n",
    "\t\tif sieve[p]:\n",
    "\t\t\tprime.append(p)\n",
    "\t\t\tprint(p,end = \" \")\n",
    "\t\t\t\n",
    "# Prints all prime numbers smaller than 'n'\n",
    "def segmentedSieve(n):\n",
    "\t\n",
    "\t\n",
    "\tlimit = int(math.floor(math.sqrt(n)) + 1)\n",
    "\tsimpleSieve(limit)\n",
    "\t\n",
    "\n",
    "\tlow = limit\n",
    "\thigh = limit * 2\n",
    "\n",
    "\twhile low < n:\n",
    "\t\tif high >= n:\n",
    "\t\t\thigh = n\n",
    "\t\t\t\n",
    "\n",
    "\n",
    "\t\tmark = [True for i in range(limit + 1)]\n",
    "\t\t\n",
    "\t\n",
    "\t\tfor i in range(len(prime)):\n",
    "\t\t\t\n",
    "\n",
    "\t\t\tloLim = int(math.floor(low / prime[i]) *\n",
    "\t\t\t\t\t\t\t\t\t\tprime[i])\n",
    "\t\t\tif loLim < low:\n",
    "\t\t\t\tloLim += prime[i]\n",
    "\t\t\t\t\n",
    "\n",
    "\t\t\tfor j in range(loLim, high, prime[i]):\n",
    "\t\t\t\tmark[j - low] = False\n",
    "\t\t\t\t\n",
    "\n",
    "\t\tfor i in range(low, high):\n",
    "\t\t\tif mark[i - low]:\n",
    "\t\t\t\tprint(i, end = \" \")\n",
    "\t\t\t\t\n",
    "\n",
    "\t\tlow = low + limit\n",
    "\t\thigh = high + limit\n",
    "\n",
    "# Driver Code\n",
    "n = 100\n",
    "print(\"Primes smaller than\", n, \":\")\n",
    "segmentedSieve(100)\n",
    "\n",
    "\n"
   ]
  },
  {
   "cell_type": "markdown",
   "id": "ae36817e",
   "metadata": {},
   "source": [
    "## Longest sub-array of Prime Numbers using Segmented Sieve"
   ]
  },
  {
   "cell_type": "code",
   "execution_count": 23,
   "id": "cff51c70",
   "metadata": {},
   "outputs": [
    {
     "name": "stdout",
     "output_type": "stream",
     "text": [
      "4\n"
     ]
    }
   ],
   "source": [
    "import math\n",
    "allPrimes = set()\n",
    "\n",
    "def simpleSieve(limit, prime):\n",
    "     \n",
    "    mark = [False] * (limit + 1)\n",
    "     \n",
    "    # Find primes using\n",
    "    # Sieve of Eratosthenes\n",
    "    for i in range(2, limit + 1):\n",
    "        if mark[i] == False:\n",
    "            prime.append(i)\n",
    "             \n",
    "            for j in range(i, limit + 1, i):\n",
    "                mark[j] = True\n",
    "\n",
    "def Primesinrange(low, high):\n",
    "    limit = math.floor(math.sqrt(high)) + 1\n",
    "    prime = []\n",
    "    simpleSieve(limit, prime)\n",
    "    n = high - low + 1\n",
    "    mark = [False] * (n + 1)\n",
    "    \n",
    "    for i in range(len(prime)):\n",
    "        lolim = low // prime[i]\n",
    "        lolim *= prime[i]\n",
    "        \n",
    "        if(lolim < low):\n",
    "            lolim += prime[i]\n",
    "             \n",
    "        if(lolim == prime[i]):\n",
    "            lolim += prime[i]\n",
    "            \n",
    "        for j in range(lolim, high + 1, prime[i]):\n",
    "            mark[j-low] = True\n",
    "            \n",
    "    for i in range(low, high + 1):\n",
    "        if not mark[i - low]:\n",
    "            allPrimes.add(i)\n",
    "            \n",
    "def maxPrimeSubarray(arr, n):\n",
    "     \n",
    "    current_max = 0\n",
    "    max_so_far = 0\n",
    "     \n",
    "    for i in range(n):\n",
    "         \n",
    "        # If element is Non-prime then\n",
    "        # updated current_max to 0\n",
    "        if arr[i] not in allPrimes:\n",
    "            current_max = 0\n",
    "         \n",
    "        # If element is prime, then\n",
    "        # update current_max and\n",
    "        # max_so_far\n",
    "        else:\n",
    "            current_max += 1\n",
    "            max_so_far = max(current_max,\n",
    "                             max_so_far)\n",
    "    return max_so_far\n",
    "\n",
    "# arr = [int(x) for x in range(input().split())]\n",
    "arr = [ 1, 2, 4, 3, 29, 11, 7, 8, 9 ]\n",
    "n = len(arr)\n",
    "maxel = max(arr)\n",
    "minel = min(arr)\n",
    "Primesinrange(minel, maxel)\n",
    "print(maxPrimeSubarray(arr, n))"
   ]
  }
 ],
 "metadata": {
  "kernelspec": {
   "display_name": "Python 3.10.1 64-bit",
   "language": "python",
   "name": "python3"
  },
  "language_info": {
   "codemirror_mode": {
    "name": "ipython",
    "version": 3
   },
   "file_extension": ".py",
   "mimetype": "text/x-python",
   "name": "python",
   "nbconvert_exporter": "python",
   "pygments_lexer": "ipython3",
   "version": "3.10.1"
  },
  "vscode": {
   "interpreter": {
    "hash": "fbc768028c3e6ead51d9a200ddcb2ec858ae62844dcd1994729a8279be9b48f2"
   }
  }
 },
 "nbformat": 4,
 "nbformat_minor": 5
}
