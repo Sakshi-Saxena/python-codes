{
 "cells": [
  {
   "cell_type": "markdown",
   "id": "e34155df",
   "metadata": {},
   "source": [
    "### Linear Search"
   ]
  },
  {
   "cell_type": "code",
   "execution_count": 3,
   "id": "b5ea6670",
   "metadata": {},
   "outputs": [
    {
     "name": "stdout",
     "output_type": "stream",
     "text": [
      "5\n",
      "11 23 45 76 99\n",
      "100\n",
      "-1\n"
     ]
    }
   ],
   "source": [
    "n = int(input())\n",
    "li = [int(x) for x in input().split()]\n",
    "target = int(input())\n",
    "isFound = False\n",
    "for i in range(len(li)):\n",
    "    if li[i] == target:\n",
    "        print(i)\n",
    "        isFound = True\n",
    "        break\n",
    "if isFound == False:\n",
    "    print(-1)\n"
   ]
  },
  {
   "cell_type": "markdown",
   "id": "87fb6851",
   "metadata": {},
   "source": [
    "### Linear Search using function"
   ]
  },
  {
   "cell_type": "code",
   "execution_count": 4,
   "id": "e5c46743",
   "metadata": {},
   "outputs": [
    {
     "name": "stdout",
     "output_type": "stream",
     "text": [
      "5\n",
      "11 22 33 44 55\n",
      "55\n",
      "4\n"
     ]
    }
   ],
   "source": [
    "def Linear_Search(li, target):\n",
    "    for i in range(len(li)):\n",
    "        if li[i] == target:\n",
    "            return i\n",
    "    return -1        \n",
    "\n",
    "n = int(input())\n",
    "li = [int(x) for x in input().split()]\n",
    "target = int(input())\n",
    "index = Linear_Search(li, target)\n",
    "print(index)"
   ]
  }
 ],
 "metadata": {
  "kernelspec": {
   "display_name": "Python 3 (ipykernel)",
   "language": "python",
   "name": "python3"
  },
  "language_info": {
   "codemirror_mode": {
    "name": "ipython",
    "version": 3
   },
   "file_extension": ".py",
   "mimetype": "text/x-python",
   "name": "python",
   "nbconvert_exporter": "python",
   "pygments_lexer": "ipython3",
   "version": "3.10.1"
  }
 },
 "nbformat": 4,
 "nbformat_minor": 5
}
