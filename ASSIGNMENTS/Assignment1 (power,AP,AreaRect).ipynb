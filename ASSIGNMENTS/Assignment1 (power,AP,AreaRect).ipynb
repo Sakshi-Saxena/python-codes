{
 "cells": [
  {
   "cell_type": "markdown",
   "id": "442e7b29",
   "metadata": {},
   "source": [
    "## power"
   ]
  },
  {
   "cell_type": "code",
   "execution_count": 1,
   "id": "2fe50dfd",
   "metadata": {},
   "outputs": [
    {
     "name": "stdout",
     "output_type": "stream",
     "text": [
      "10\n",
      "4\n",
      "10000\n"
     ]
    }
   ],
   "source": [
    "#power\n",
    "x = int(input())\n",
    "n = int(input())\n",
    "p = x**n\n",
    "print(p)"
   ]
  },
  {
   "cell_type": "markdown",
   "id": "49cacccb",
   "metadata": {},
   "source": [
    "## AP"
   ]
  },
  {
   "cell_type": "code",
   "execution_count": 2,
   "id": "9289e686",
   "metadata": {},
   "outputs": [
    {
     "name": "stdout",
     "output_type": "stream",
     "text": [
      "10\n",
      "2\n",
      "3\n",
      "difference 1\n"
     ]
    }
   ],
   "source": [
    "#AP\n",
    "n1 = int(input())\n",
    "n2 = int(input())\n",
    "n3 = int(input())\n",
    "d = n3 - n2\n",
    "print(\"difference\",d)"
   ]
  },
  {
   "cell_type": "code",
   "execution_count": null,
   "id": "420b5290",
   "metadata": {},
   "outputs": [],
   "source": [
    "##"
   ]
  },
  {
   "cell_type": "code",
   "execution_count": null,
   "id": "03039407",
   "metadata": {},
   "outputs": [],
   "source": [
    "#area of rectangle\n",
    "l = int(input(\"enter length: \"))\n",
    "b = int(input(\"enter breadth: \"))\n",
    "area = l*b\n",
    "print(\"area of rec: \", area)"
   ]
  }
 ],
 "metadata": {
  "kernelspec": {
   "display_name": "Python 3 (ipykernel)",
   "language": "python",
   "name": "python3"
  },
  "language_info": {
   "codemirror_mode": {
    "name": "ipython",
    "version": 3
   },
   "file_extension": ".py",
   "mimetype": "text/x-python",
   "name": "python",
   "nbconvert_exporter": "python",
   "pygments_lexer": "ipython3",
   "version": "3.10.1"
  }
 },
 "nbformat": 4,
 "nbformat_minor": 5
}
