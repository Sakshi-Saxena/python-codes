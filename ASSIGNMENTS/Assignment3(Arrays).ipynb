{
 "cells": [
  {
   "cell_type": "markdown",
   "id": "d39d7b2b",
   "metadata": {},
   "source": [
    "### Unique element"
   ]
  },
  {
   "cell_type": "code",
   "execution_count": 14,
   "id": "05392c2a",
   "metadata": {},
   "outputs": [
    {
     "name": "stdout",
     "output_type": "stream",
     "text": [
      "5\n",
      "12 12 33 45 45\n",
      "Sorted array:  [12, 12, 33, 45, 45]\n",
      "33\n"
     ]
    }
   ],
   "source": [
    "def Unique_element(arr, n):\n",
    "    for i in range(0, n, 2):\n",
    "        if arr[i] != arr[i+1]:\n",
    "            return arr[i]\n",
    "    return -1\n",
    "       \n",
    "\n",
    "\n",
    "n = int(input())\n",
    "arr = [int(x) for x in input().split()]\n",
    "arr.sort()\n",
    "print(\"Sorted array: \",arr)\n",
    "unique = Unique_element(arr, n)\n",
    "print(unique)"
   ]
  },
  {
   "cell_type": "markdown",
   "id": "05a5c0a2",
   "metadata": {},
   "source": [
    "### list of all unique elements or remove duplicates"
   ]
  },
  {
   "cell_type": "code",
   "execution_count": 15,
   "id": "af90c5cb",
   "metadata": {},
   "outputs": [
    {
     "name": "stdout",
     "output_type": "stream",
     "text": [
      "6\n",
      "11 11 23 45 45 66\n",
      "11 23 45 66 "
     ]
    }
   ],
   "source": [
    "def Unique_elements(arr):\n",
    "    UniqueLi = []\n",
    "    for i in arr:\n",
    "        if i not in UniqueLi:\n",
    "            UniqueLi.append(i)\n",
    "    for ele in UniqueLi:\n",
    "        print(ele, end=\" \")\n",
    "\n",
    "n = int(input())        \n",
    "arr = [int(x) for x in input().split()]\n",
    "Unique_elements(arr)"
   ]
  },
  {
   "cell_type": "markdown",
   "id": "0c40b2cb",
   "metadata": {},
   "source": [
    "### find duplicate"
   ]
  },
  {
   "cell_type": "code",
   "execution_count": 21,
   "id": "66643e47",
   "metadata": {},
   "outputs": [
    {
     "name": "stdout",
     "output_type": "stream",
     "text": [
      "5\n",
      "12 33 12 45 26\n",
      "12\n"
     ]
    }
   ],
   "source": [
    "def find_duplicate(arr, n):\n",
    "    for i in range(0, n-1):\n",
    "        for j in range(i+1, n):\n",
    "            if arr[i] == arr[j]:\n",
    "                return arr[i]\n",
    "    return -1    \n",
    "\n",
    "n = int(input())        \n",
    "arr = [int(x) for x in input().split()]\n",
    "arr.sort()\n",
    "duplicate = find_duplicate(arr, n)\n",
    "print(duplicate)"
   ]
  },
  {
   "cell_type": "markdown",
   "id": "00807c62",
   "metadata": {},
   "source": [
    "### Intersection"
   ]
  },
  {
   "cell_type": "code",
   "execution_count": 24,
   "id": "ec11ae79",
   "metadata": {},
   "outputs": [
    {
     "name": "stdout",
     "output_type": "stream",
     "text": [
      "5\n",
      "12 14 16 18 20\n",
      "5\n",
      "12 15 17 19 20\n",
      "[12, 20]\n"
     ]
    }
   ],
   "source": [
    "def intersection(arr1, arr2):\n",
    "    arr3 = [val for val in arr1 if val in arr2]\n",
    "    return arr3\n",
    "\n",
    "n = int(input())        \n",
    "arr1 = [int(x) for x in input().split()]\n",
    "m = int(input())\n",
    "arr2 = [int(x) for x in input().split()]\n",
    "print(intersection(arr1, arr2))"
   ]
  },
  {
   "cell_type": "code",
   "execution_count": 26,
   "id": "6a899d26",
   "metadata": {},
   "outputs": [
    {
     "name": "stdout",
     "output_type": "stream",
     "text": [
      "6\n",
      "12 13 14 15 16 17\n",
      "7\n",
      "29 34 12 14 17 18 13\n",
      "{17, 12, 13, 14}\n"
     ]
    }
   ],
   "source": [
    "def Intersection(arr1, arr2):\n",
    "    return set(arr1).intersection(arr2)\n",
    "\n",
    "n = int(input())        \n",
    "arr1 = [int(x) for x in input().split()]\n",
    "m = int(input())\n",
    "arr2 = [int(x) for x in input().split()]\n",
    "print(Intersection(arr1, arr2))"
   ]
  },
  {
   "cell_type": "markdown",
   "id": "4235f36e",
   "metadata": {},
   "source": [
    "### pair sums"
   ]
  },
  {
   "cell_type": "code",
   "execution_count": 31,
   "id": "3ed58f57",
   "metadata": {},
   "outputs": [
    {
     "name": "stdout",
     "output_type": "stream",
     "text": [
      "9\n",
      "1 3 6 2 5 4 3 2 4\n",
      "7\n",
      "pairs:  1   6\n",
      "pairs:  3   4\n",
      "pairs:  3   4\n",
      "pairs:  2   5\n",
      "pairs:  5   2\n",
      "pairs:  4   3\n",
      "pairs:  3   4\n",
      "7\n"
     ]
    }
   ],
   "source": [
    "def pairSum(arr, n, x):\n",
    "    numpairs = 0\n",
    "    for i in range(n):\n",
    "        for j in range(i+1, n):\n",
    "            if arr[i] + arr[j] == x:\n",
    "                numpairs += 1\n",
    "                print(\"pairs: \",arr[i],\" \",arr[j])\n",
    "    return numpairs\n",
    "\n",
    "\n",
    "n = int(input())        \n",
    "arr = [int(x) for x in input().split()]\n",
    "sum_no = int(input())\n",
    "print(pairSum(arr, n, sum_no))"
   ]
  },
  {
   "cell_type": "markdown",
   "id": "139564fa",
   "metadata": {},
   "source": [
    "### triplet sum"
   ]
  },
  {
   "cell_type": "code",
   "execution_count": 33,
   "id": "a884edbb",
   "metadata": {},
   "outputs": [
    {
     "name": "stdout",
     "output_type": "stream",
     "text": [
      "7\n",
      "7 6 5 4 3 2 1\n",
      "12\n",
      "pairs:  7   4   1\n",
      "pairs:  7   3   2\n",
      "pairs:  6   5   1\n",
      "pairs:  6   4   2\n",
      "pairs:  5   4   3\n",
      "5\n"
     ]
    }
   ],
   "source": [
    "def tripletSum(arr, n, x):\n",
    "    numtriplets = 0\n",
    "    for i in range(n):\n",
    "        for j in range(i+1, n):\n",
    "            for k in range(j+1, n):\n",
    "                if (arr[i] + arr[j] + arr[k]) == x:\n",
    "                    numtriplets += 1\n",
    "                    print(\"pairs: \",arr[i],\" \",arr[j], \" \",arr[k])\n",
    "    return numtriplets\n",
    "\n",
    "\n",
    "n = int(input())        \n",
    "arr = [int(x) for x in input().split()]\n",
    "sum_no = int(input())\n",
    "print(tripletSum(arr, n, sum_no))"
   ]
  },
  {
   "cell_type": "markdown",
   "id": "7c332edb",
   "metadata": {},
   "source": [
    "### sort 0 1"
   ]
  },
  {
   "cell_type": "code",
   "execution_count": 37,
   "id": "48c45d90",
   "metadata": {},
   "outputs": [
    {
     "name": "stdout",
     "output_type": "stream",
     "text": [
      "5\n",
      "0 1 0 1 0\n",
      "0 0 0 1 1 "
     ]
    }
   ],
   "source": [
    "def sortZeroandOne(arr, n):\n",
    "    nextZero = 0\n",
    "    for i in range(n):\n",
    "        if arr[i] == 0:\n",
    "            temp = arr[nextZero]\n",
    "            arr[nextZero] = arr[i]\n",
    "            arr[i] = temp\n",
    "            nextZero += 1\n",
    "\n",
    "def printlist(arr, n):\n",
    "    for i in range(n):\n",
    "        print(arr[i], end=\" \")\n",
    "\n",
    "\n",
    "n = int(input())        \n",
    "arr = [int(x) for x in input().split()]\n",
    "sortZeroandOne(arr, n)\n",
    "printlist(arr, n)"
   ]
  }
 ],
 "metadata": {
  "kernelspec": {
   "display_name": "Python 3 (ipykernel)",
   "language": "python",
   "name": "python3"
  },
  "language_info": {
   "codemirror_mode": {
    "name": "ipython",
    "version": 3
   },
   "file_extension": ".py",
   "mimetype": "text/x-python",
   "name": "python",
   "nbconvert_exporter": "python",
   "pygments_lexer": "ipython3",
   "version": "3.10.1"
  }
 },
 "nbformat": 4,
 "nbformat_minor": 5
}
