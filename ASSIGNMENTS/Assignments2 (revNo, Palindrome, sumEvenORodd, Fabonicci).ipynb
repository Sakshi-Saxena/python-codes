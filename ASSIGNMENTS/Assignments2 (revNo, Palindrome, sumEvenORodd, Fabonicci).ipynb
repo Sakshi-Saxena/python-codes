{
 "cells": [
  {
   "cell_type": "markdown",
   "id": "8a9aee4e",
   "metadata": {},
   "source": [
    "## Calculator"
   ]
  },
  {
   "cell_type": "code",
   "execution_count": 1,
   "id": "eecd6071",
   "metadata": {},
   "outputs": [
    {
     "name": "stdout",
     "output_type": "stream",
     "text": [
      "6\n",
      "Invalid Operation!\n"
     ]
    }
   ],
   "source": [
    "## calculator\n",
    "n = int(input())\n",
    "\n",
    "if n>=1 and n<=5:\n",
    "    a = int(input())\n",
    "    b = int(input())\n",
    "    if n == 1:\n",
    "        print(a + b)\n",
    "    if n == 2:\n",
    "        print(a - b)\n",
    "    if n == 3:\n",
    "        print(a * b)  \n",
    "    if n == 4:\n",
    "        print(a // b) \n",
    "    if n == 5:\n",
    "        print(a % b)   \n",
    "else:\n",
    "    print(\"Invalid Operation!\")"
   ]
  },
  {
   "cell_type": "markdown",
   "id": "5ca1329c",
   "metadata": {},
   "source": [
    "## Rev a num"
   ]
  },
  {
   "cell_type": "code",
   "execution_count": 3,
   "id": "28058e96",
   "metadata": {},
   "outputs": [
    {
     "name": "stdout",
     "output_type": "stream",
     "text": [
      "13789\n",
      "98731"
     ]
    }
   ],
   "source": [
    "### rev a no\n",
    "n = int(input())\n",
    "temp = n\n",
    "while temp > 0:\n",
    "    lastdigit = temp % 10\n",
    "    print(lastdigit, end=\"\")\n",
    "    temp = temp//10"
   ]
  },
  {
   "cell_type": "markdown",
   "id": "e3bd1799",
   "metadata": {},
   "source": [
    "## Palindrome"
   ]
  },
  {
   "cell_type": "code",
   "execution_count": 4,
   "id": "7056029e",
   "metadata": {},
   "outputs": [
    {
     "name": "stdout",
     "output_type": "stream",
     "text": [
      "121\n",
      "121 is palindrome!\n"
     ]
    }
   ],
   "source": [
    "### palindrome\n",
    "n = int(input())\n",
    "temp = n\n",
    "rev = 0\n",
    "while temp > 0:\n",
    "    lastdigit = temp % 10\n",
    "    rev = rev * 10 + lastdigit\n",
    "    temp = temp//10\n",
    "if(n == rev):\n",
    "    print(n, \"is palindrome!\")\n",
    "else:\n",
    "    print(n, \"is not palindrome!\")"
   ]
  },
  {
   "cell_type": "markdown",
   "id": "4ab2c5e0",
   "metadata": {},
   "source": [
    "## Sum of even and odd"
   ]
  },
  {
   "cell_type": "code",
   "execution_count": 5,
   "id": "ea53f573",
   "metadata": {},
   "outputs": [
    {
     "name": "stdout",
     "output_type": "stream",
     "text": [
      "1234\n",
      "6   4\n"
     ]
    }
   ],
   "source": [
    "### sum of even and odd digits\n",
    "n = int(input())\n",
    "evensum = 0\n",
    "oddsum = 0\n",
    "while n>0:\n",
    "    last = n % 10\n",
    "    \n",
    "    if last%2 == 0:\n",
    "        evensum += last\n",
    "    else:\n",
    "        oddsum += last\n",
    "    n //= 10\n",
    "print(evensum, \" \", oddsum)  "
   ]
  },
  {
   "cell_type": "markdown",
   "id": "cbf1b295",
   "metadata": {},
   "source": [
    "## Fabonicci num"
   ]
  },
  {
   "cell_type": "code",
   "execution_count": 6,
   "id": "373160c3",
   "metadata": {},
   "outputs": [
    {
     "name": "stdout",
     "output_type": "stream",
     "text": [
      "7\n",
      "13\n"
     ]
    }
   ],
   "source": [
    "### fabonicci num\n",
    "n = int(input())\n",
    "a = 1\n",
    "b = 1\n",
    "for i in range(1, n):\n",
    "    c = a+b\n",
    "    a = b\n",
    "    b = c\n",
    "print(a)  "
   ]
  },
  {
   "cell_type": "markdown",
   "id": "af36a5ab",
   "metadata": {},
   "source": [
    "## Fabonicci series"
   ]
  },
  {
   "cell_type": "code",
   "execution_count": 7,
   "id": "b100abfc",
   "metadata": {},
   "outputs": [
    {
     "name": "stdout",
     "output_type": "stream",
     "text": [
      "13\n",
      "0 1 1 2 3 5 8 13 21 34 55 89 144 "
     ]
    }
   ],
   "source": [
    "### fabonicci series\n",
    "n = int(input())\n",
    "t1 = 0\n",
    "t2 = 1\n",
    "count = 0\n",
    "while count < n:\n",
    "    print(t1, end=\" \")\n",
    "    nth = t1 + t2\n",
    "    ##update the values\n",
    "    t1 = t2\n",
    "    t2 = nth\n",
    "    count += 1"
   ]
  },
  {
   "cell_type": "code",
   "execution_count": 8,
   "id": "990e4f09",
   "metadata": {},
   "outputs": [
    {
     "name": "stdout",
     "output_type": "stream",
     "text": [
      "enter the num: 13\n",
      "enter 1st num of series: 2\n",
      "enter 2nd num of series: 4\n",
      "2 4 6 10 16 26 42 68 110 178 288 466 754 "
     ]
    }
   ],
   "source": [
    "### fabonicci series 1st and 2nd term entered by user\n",
    "n = int(input(\"enter the num: \"))\n",
    "a = int(input(\"enter 1st num of series: \"))\n",
    "b = int(input(\"enter 2nd num of series: \"))\n",
    "count = a\n",
    "while count<=n+1:\n",
    "    print(a, end=\" \")\n",
    "    nth = a+b\n",
    "    a=b\n",
    "    b=nth\n",
    "    count += 1"
   ]
  }
 ],
 "metadata": {
  "kernelspec": {
   "display_name": "Python 3 (ipykernel)",
   "language": "python",
   "name": "python3"
  },
  "language_info": {
   "codemirror_mode": {
    "name": "ipython",
    "version": 3
   },
   "file_extension": ".py",
   "mimetype": "text/x-python",
   "name": "python",
   "nbconvert_exporter": "python",
   "pygments_lexer": "ipython3",
   "version": "3.10.1"
  }
 },
 "nbformat": 4,
 "nbformat_minor": 5
}
