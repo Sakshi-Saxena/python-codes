{
 "cells": [
  {
   "cell_type": "markdown",
   "id": "a0d5e71a",
   "metadata": {},
   "source": [
    "### first Non repeating char"
   ]
  },
  {
   "cell_type": "code",
   "execution_count": 9,
   "id": "c19b8057",
   "metadata": {},
   "outputs": [
    {
     "name": "stdout",
     "output_type": "stream",
     "text": [
      "ssBaa\n",
      "B\n"
     ]
    }
   ],
   "source": [
    "def nonRepeatingChar(str):\n",
    "    d = {}\n",
    "    for char in str:\n",
    "        if char in d:\n",
    "            d[char] += 1\n",
    "        else:\n",
    "            d[char] = 1\n",
    "    for char in str:\n",
    "        if d[char] == 1:\n",
    "            return char\n",
    "\n",
    "str = input()\n",
    "print(nonRepeatingChar(str))"
   ]
  },
  {
   "cell_type": "code",
   "execution_count": null,
   "id": "e2971a51",
   "metadata": {},
   "outputs": [],
   "source": []
  },
  {
   "cell_type": "code",
   "execution_count": 10,
   "id": "44f7d0bb",
   "metadata": {},
   "outputs": [
    {
     "name": "stdout",
     "output_type": "stream",
     "text": [
      "abccss\n",
      "{'a', 'c', 'b', 's'}\n"
     ]
    }
   ],
   "source": [
    "def uniqueStr(str):\n",
    "    s = set()\n",
    "    for char in str:\n",
    "        s.add(char)\n",
    "    return s\n",
    "\n",
    "str = input()\n",
    "print(uniqueStr(str))"
   ]
  },
  {
   "cell_type": "markdown",
   "id": "76921623",
   "metadata": {},
   "source": [
    "### Unique string without changing their position"
   ]
  },
  {
   "cell_type": "code",
   "execution_count": 12,
   "id": "cbd19b4c",
   "metadata": {},
   "outputs": [
    {
     "name": "stdout",
     "output_type": "stream",
     "text": [
      "abcddccss\n",
      "abcds\n"
     ]
    }
   ],
   "source": [
    "def uniqueStr(str):\n",
    "    ans = ''\n",
    "    d = {}\n",
    "    for char in str:\n",
    "        if char not in d:\n",
    "            ans += char\n",
    "            d[char] = True\n",
    "    return ans\n",
    "\n",
    "str = input()\n",
    "print(uniqueStr(str))"
   ]
  },
  {
   "cell_type": "markdown",
   "id": "3ff0cd7d",
   "metadata": {},
   "source": [
    "### different names"
   ]
  },
  {
   "cell_type": "code",
   "execution_count": 14,
   "id": "e2b37cf9",
   "metadata": {},
   "outputs": [
    {
     "name": "stdout",
     "output_type": "stream",
     "text": [
      "sakshi sakshi ali ali muskan amal\n",
      "{'sakshi': 2, 'ali': 2, 'muskan': 1, 'amal': 1}\n"
     ]
    }
   ],
   "source": [
    "def differentNames(str):\n",
    "    d = {}\n",
    "    for char in str:\n",
    "        if char in d:\n",
    "            d[char] += 1\n",
    "        else:\n",
    "            d[char] = 1\n",
    "    return d\n",
    "\n",
    "str = input().split()\n",
    "print(differentNames(str))"
   ]
  },
  {
   "cell_type": "markdown",
   "id": "407ad347",
   "metadata": {},
   "source": [
    "### max frequency"
   ]
  },
  {
   "cell_type": "code",
   "execution_count": 30,
   "id": "73f677e8",
   "metadata": {},
   "outputs": [
    {
     "name": "stdout",
     "output_type": "stream",
     "text": [
      "9\n",
      "1 1 1 1 2 2 3 3 4\n",
      "1\n"
     ]
    }
   ],
   "source": [
    "def maxFreq(arr):\n",
    "    d = {}\n",
    "    for n in arr:\n",
    "        if n in d:\n",
    "            d[n] += 1\n",
    "        else:\n",
    "            d[n] = 1\n",
    "    ans = arr[0]\n",
    "    for num in arr:\n",
    "        if d[num] > d[ans]:\n",
    "            ans = num\n",
    "    return ans\n",
    "\n",
    "\n",
    "n = int(input())\n",
    "arr = [int(x) for x in input().split()]\n",
    "print(maxFreq(arr))"
   ]
  }
 ],
 "metadata": {
  "kernelspec": {
   "display_name": "Python 3 (ipykernel)",
   "language": "python",
   "name": "python3"
  },
  "language_info": {
   "codemirror_mode": {
    "name": "ipython",
    "version": 3
   },
   "file_extension": ".py",
   "mimetype": "text/x-python",
   "name": "python",
   "nbconvert_exporter": "python",
   "pygments_lexer": "ipython3",
   "version": "3.10.1"
  }
 },
 "nbformat": 4,
 "nbformat_minor": 5
}
