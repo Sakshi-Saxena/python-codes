{
 "cells": [
  {
   "cell_type": "code",
   "execution_count": 4,
   "id": "65bf93be",
   "metadata": {},
   "outputs": [
    {
     "name": "stdout",
     "output_type": "stream",
     "text": [
      "2 7 11 15\n",
      "9\n",
      "0 1\n"
     ]
    }
   ],
   "source": [
    "def twoSum(num, target):\n",
    "    for i in range(len(num)-1):\n",
    "        for j in range(i+1, len(num)):\n",
    "            if(num[i] + num[j] == target):\n",
    "                print(i,j)\n",
    "    \n",
    "\n",
    "num = [int(x) for x in input().split()]\n",
    "target = int(input())\n",
    "twoSum(num, target)\n",
    "# print(twoSum)"
   ]
  },
  {
   "cell_type": "code",
   "execution_count": 12,
   "id": "25d851b4",
   "metadata": {},
   "outputs": [
    {
     "name": "stdout",
     "output_type": "stream",
     "text": [
      "2 5  7 9\n",
      "4\n",
      "2 0\n",
      "5 1\n",
      "7 2\n",
      "9 3\n"
     ]
    }
   ],
   "source": [
    "li = [int(x) for x in input().split()]\n",
    "print(len(li))\n",
    "for i in range(len(li)):\n",
    "    print(li[i] , i)"
   ]
  }
 ],
 "metadata": {
  "kernelspec": {
   "display_name": "Python 3 (ipykernel)",
   "language": "python",
   "name": "python3"
  },
  "language_info": {
   "codemirror_mode": {
    "name": "ipython",
    "version": 3
   },
   "file_extension": ".py",
   "mimetype": "text/x-python",
   "name": "python",
   "nbconvert_exporter": "python",
   "pygments_lexer": "ipython3",
   "version": "3.10.1"
  }
 },
 "nbformat": 4,
 "nbformat_minor": 5
}
