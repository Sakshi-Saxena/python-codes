{
 "cells": [
  {
   "cell_type": "markdown",
   "id": "2d1071fd",
   "metadata": {},
   "source": [
    "## frequency of all elements using dictionary"
   ]
  },
  {
   "cell_type": "markdown",
   "id": "d3f2e81a",
   "metadata": {},
   "source": [
    "### using .get method"
   ]
  },
  {
   "cell_type": "code",
   "execution_count": 3,
   "id": "1ecdb583",
   "metadata": {},
   "outputs": [
    {
     "name": "stdout",
     "output_type": "stream",
     "text": [
      "sakshi is a good girl\n",
      "{'sakshi': 1, 'is': 1, 'a': 1, 'good': 1, 'girl': 1}\n"
     ]
    }
   ],
   "source": [
    "str = input().split()\n",
    "d = {}\n",
    "for w in str:\n",
    "    d[w] = d.get(w, 0) + 1\n",
    "print(d)"
   ]
  },
  {
   "cell_type": "markdown",
   "id": "44067e15",
   "metadata": {},
   "source": [
    "### using if else"
   ]
  },
  {
   "cell_type": "code",
   "execution_count": 5,
   "id": "1173e02d",
   "metadata": {},
   "outputs": [
    {
     "name": "stdout",
     "output_type": "stream",
     "text": [
      "sakshi is a good girl girl\n",
      "{'sakshi': 1, 'is': 1, 'a': 1, 'good': 1, 'girl': 2}\n"
     ]
    }
   ],
   "source": [
    "str = input().split()\n",
    "d = {}\n",
    "for w in str:\n",
    "    if w in d:\n",
    "        d[w] = d[w] + 1\n",
    "    else:\n",
    "        d[w] = 1\n",
    "print(d)"
   ]
  },
  {
   "cell_type": "markdown",
   "id": "b199914a",
   "metadata": {},
   "source": [
    "### using function"
   ]
  },
  {
   "cell_type": "code",
   "execution_count": 6,
   "id": "92cda36c",
   "metadata": {},
   "outputs": [
    {
     "name": "stdout",
     "output_type": "stream",
     "text": [
      "sakshi is agood girll girll\n",
      "{'sakshi': 1, 'is': 1, 'agood': 1, 'girll': 2}\n"
     ]
    }
   ],
   "source": [
    "def freq(str):\n",
    "    d = {}\n",
    "    for w in str:\n",
    "        d[w] = d.get(w, 0) + 1\n",
    "    return d\n",
    "\n",
    "str = input().split()\n",
    "print(freq(str))"
   ]
  },
  {
   "cell_type": "markdown",
   "id": "c4654e80",
   "metadata": {},
   "source": [
    "### K frequency words"
   ]
  },
  {
   "cell_type": "code",
   "execution_count": 8,
   "id": "68d6fbe8",
   "metadata": {},
   "outputs": [
    {
     "name": "stdout",
     "output_type": "stream",
     "text": [
      "sakshi will get placed at very very high package in btech 6sem!\n",
      "2\n",
      "{'sakshi': 1, 'will': 1, 'get': 1, 'placed': 1, 'at': 1, 'very': 2, 'high': 1, 'package': 1, 'in': 1, 'btech': 1, '6sem!': 1}\n",
      "very\n"
     ]
    }
   ],
   "source": [
    "def KfreqWords(s, k):\n",
    "    d = {}\n",
    "    for w in str:\n",
    "        d[w] = d.get(w, 0) + 1\n",
    "    print(d)\n",
    "    for w in d:\n",
    "        if d[w] == k:\n",
    "            print(w)\n",
    "            \n",
    "str = input().split()\n",
    "k = int(input())\n",
    "KfreqWords(str, k)"
   ]
  }
 ],
 "metadata": {
  "kernelspec": {
   "display_name": "Python 3 (ipykernel)",
   "language": "python",
   "name": "python3"
  },
  "language_info": {
   "codemirror_mode": {
    "name": "ipython",
    "version": 3
   },
   "file_extension": ".py",
   "mimetype": "text/x-python",
   "name": "python",
   "nbconvert_exporter": "python",
   "pygments_lexer": "ipython3",
   "version": "3.10.1"
  }
 },
 "nbformat": 4,
 "nbformat_minor": 5
}
